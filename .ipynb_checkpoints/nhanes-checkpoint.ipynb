{
 "cells": [
  {
   "cell_type": "markdown",
   "metadata": {},
   "source": [
    "main_link https://wwwn.cdc.gov/nchs/nhanes/Default.aspx"
   ]
  },
  {
   "cell_type": "code",
   "execution_count": 2,
   "metadata": {},
   "outputs": [],
   "source": [
    "import plotly.express as px\n",
    "from sklearn.decomposition import PCA\n",
    "from sklearn.preprocessing import StandardScaler\n",
    "from funcs import nhanes_concat, nhanes_open, nhanes_from_yaml, pca\n",
    "import matplotlib.pyplot as plt"
   ]
  },
  {
   "cell_type": "code",
   "execution_count": 7,
   "metadata": {},
   "outputs": [
    {
     "ename": "NameError",
     "evalue": "name 'open_nhanes' is not defined",
     "output_type": "error",
     "traceback": [
      "\u001B[0;31m---------------------------------------------------------------------------\u001B[0m",
      "\u001B[0;31mNameError\u001B[0m                                 Traceback (most recent call last)",
      "Input \u001B[0;32mIn [7]\u001B[0m, in \u001B[0;36m<cell line: 1>\u001B[0;34m()\u001B[0m\n\u001B[0;32m----> 1\u001B[0m df \u001B[38;5;241m=\u001B[39m \u001B[43mnhanes_concat\u001B[49m\u001B[43m(\u001B[49m\u001B[43m)\u001B[49m\n\u001B[1;32m      2\u001B[0m pca(df)\n",
      "File \u001B[0;32m~/CodeProjects/SysBioMedProjects/nhanes_prj/funcs.py:88\u001B[0m, in \u001B[0;36mnhanes_concat\u001B[0;34m()\u001B[0m\n\u001B[1;32m     87\u001B[0m \u001B[38;5;28;01mdef\u001B[39;00m \u001B[38;5;21mnhanes_concat\u001B[39m():\n\u001B[0;32m---> 88\u001B[0m     nhanes \u001B[38;5;241m=\u001B[39m \u001B[43mopen_nhanes\u001B[49m()\n\u001B[1;32m     89\u001B[0m     \u001B[38;5;28;01mfor\u001B[39;00m key, val \u001B[38;5;129;01min\u001B[39;00m nhanes\u001B[38;5;241m.\u001B[39mitems():\n\u001B[1;32m     90\u001B[0m         val[\u001B[38;5;124m'\u001B[39m\u001B[38;5;124mperiod\u001B[39m\u001B[38;5;124m'\u001B[39m] \u001B[38;5;241m=\u001B[39m \u001B[38;5;28mint\u001B[39m(key[::\u001B[38;5;241m4\u001B[39m])\n",
      "\u001B[0;31mNameError\u001B[0m: name 'open_nhanes' is not defined"
     ]
    }
   ],
   "source": [
    "df = nhanes_concat()\n",
    "pca(df)"
   ]
  },
  {
   "cell_type": "markdown",
   "metadata": {},
   "source": [
    "\n",
    "NHANES\n",
    "    0. Выбрать параметры. Какие параметры взять? (сначала только один)\n",
    "    1. Скачать параметры, получить датасет (строки - месяцы, колонки - медианы)\n",
    "        Написать функцию. которая принимает на себя ссылку и добавляет в субсет значения\n",
    "    2. Чтобы датасет принимал параметры *пол, возраст* и выдавал субдатасет\n",
    "    * потом можно приводить все страты (нормировать)\n",
    "    3. Сделать PCA или heatmap  - с дендрограммой (кластеризация)\n",
    "    \n",
    "    \n",
    "yaml_file --> years (objects with data) --> years.pca (make)\n"
   ]
  },
  {
   "cell_type": "markdown",
   "metadata": {},
   "source": [
    "ПАРАМЕТРЫ\n",
    "[1] \"АЛТ, Ед/л\"                               \"АСТ Ед/л\"                                \"Билирубин общий, мкмоль/л\"               \"СРБ, мг/л\"\n",
    " [5] \"CA-125, Ед/мл\"                           \"CA-153, Ед/мл\"                           \"СА-19.9, Eд/мл\"                          \"РЭА, нг/мл\"\n",
    " [9] \"Креатинин, мкмоль/л\"                     \"D-димер, нг/мл\"                          \"Эритроциты, 10^12/л\"                     \"ФСГ, мМЕ/мл\"\n",
    "[13] \"Гематокрит, %\"                           \"Гемоглобин, г/л\"                         \"Лейкоциты, 10^9/л\"                       \"ЛГ, мМЕ/мл\"\n",
    "[17] \"Лимфоциты, 10^9/л\"                       \"Лимфоциты(%)\"                            \"Ср.содерж.гемогл.в эрит.(MCH), пг\"       \"Ср.конц. гемоглоб. в эритр.(MCHC), г/дл\"\n",
    "[21] \"Ср. объем эритроцитов (MCV), фл\"         \"Моноциты, 10^9/л\"                        \"Нейтрофилы, 10^9/л\"                      \"Нейтрофилы(%)\"\n",
    "[25] \"Тромбоциты, 10^9/л\"                      \"ПСА общий, нг/мл\"                        \"RDW, %\"                                  \"Мочевая кислота, ммоль/л\""
   ]
  },
  {
   "cell_type": "code",
   "execution_count": null,
   "metadata": {},
   "outputs": [],
   "source": [
    "url = \"https://wwwn.cdc.gov/Nchs/Nhanes/2015-2016/DEMO_I.htm\"\n",
    "url2 = \"https://wwwn.cdc.gov/Nchs/Nhanes/2015-2016/DEMO_I.XPT\""
   ]
  },
  {
   "cell_type": "markdown",
   "metadata": {},
   "source": [
    "11111 Аланинаминотрансфераза\n",
    "11111 Аспартатаминотрансфераза\n",
    "11111 Билирубин общий\n",
    "Mucin-16 = CA-125\n",
    "CA-15-3\n",
    "СА-19.9\n",
    "11111 Креатинин\n",
    "D-димер\n",
    "Эритроциты\n",
    "Гематокрит\n",
    "Гемоглобин\n",
    "Лейкоциты\n",
    "Лимфоциты\n",
    "Ср.содерж.гемогл.в эрит.(MCH)\n",
    "Нейтрофилы(%)\n",
    "Моноциты\n",
    "Тромбоциты\n",
    "11111 Мочевая кислота\n",
    "Prostate-specific antigen\n",
    "RDW"
   ]
  }
 ],
 "metadata": {
  "kernelspec": {
   "display_name": "Python 3 (ipykernel)",
   "language": "python",
   "name": "python3"
  },
  "language_info": {
   "codemirror_mode": {
    "name": "ipython",
    "version": 3
   },
   "file_extension": ".py",
   "mimetype": "text/x-python",
   "name": "python",
   "nbconvert_exporter": "python",
   "pygments_lexer": "ipython3",
   "version": "3.9.12"
  }
 },
 "nbformat": 4,
 "nbformat_minor": 1
}
